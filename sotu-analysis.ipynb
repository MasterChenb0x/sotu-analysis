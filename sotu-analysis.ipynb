{
 "cells": [
  {
   "cell_type": "code",
   "execution_count": 4,
   "id": "57593ed3-ab7b-4f83-8f64-052f7a0b4779",
   "metadata": {},
   "outputs": [],
   "source": [
    "import string\n",
    "import sys\n",
    "\n",
    "# Initialization \n",
    "word_dict = {}\n",
    "table = str.maketrans('', '', string.punctuation)"
   ]
  },
  {
   "cell_type": "code",
   "execution_count": 48,
   "id": "767c61d8-db4f-4ed0-9127-61076261b486",
   "metadata": {},
   "outputs": [],
   "source": [
    "# Set the speech to analyze\n",
    "speech = \"SOTU-2020.txt\""
   ]
  },
  {
   "cell_type": "code",
   "execution_count": 49,
   "id": "2d9b8978-23c5-45a4-8ccc-16db71dffbe0",
   "metadata": {},
   "outputs": [],
   "source": [
    "with open(f'{speech}', 'r', encoding='utf8') as speech_file:\n",
    "    speech_list = speech_file.readlines()"
   ]
  },
  {
   "cell_type": "code",
   "execution_count": 50,
   "id": "673f3081-bd07-4ffd-b674-e03048016d1b",
   "metadata": {},
   "outputs": [],
   "source": [
    "for line in speech_list:\n",
    "    words = line.split()\n",
    "    for word in words:\n",
    "        word = word.translate(table)\n",
    "        word = word.lower()\n",
    "        if word not in word_dict:\n",
    "            word_dict[word] = 1\n",
    "        else:\n",
    "            word_dict[word] += 1\n",
    "sort_words = sorted(word_dict.items(), key=lambda x: x[1], reverse=True)"
   ]
  },
  {
   "cell_type": "code",
   "execution_count": 63,
   "id": "2e720130-acf7-427b-a0c7-3440d1724d3a",
   "metadata": {},
   "outputs": [
    {
     "data": {
      "text/plain": [
       "[('china', 16)]"
      ]
     },
     "execution_count": 63,
     "metadata": {},
     "output_type": "execute_result"
    }
   ],
   "source": [
    "term = \"china\"\n",
    "  \n",
    "[sort_words[i] for i,v in enumerate(sort_words) if v[0] == term]\n",
    "\n"
   ]
  },
  {
   "cell_type": "code",
   "execution_count": null,
   "id": "a3dbfdea-4855-41dd-93f4-a6d4d6fd9f23",
   "metadata": {},
   "outputs": [],
   "source": []
  }
 ],
 "metadata": {
  "kernelspec": {
   "display_name": "Python 3 (ipykernel)",
   "language": "python",
   "name": "python3"
  },
  "language_info": {
   "codemirror_mode": {
    "name": "ipython",
    "version": 3
   },
   "file_extension": ".py",
   "mimetype": "text/x-python",
   "name": "python",
   "nbconvert_exporter": "python",
   "pygments_lexer": "ipython3",
   "version": "3.9.7"
  }
 },
 "nbformat": 4,
 "nbformat_minor": 5
}
